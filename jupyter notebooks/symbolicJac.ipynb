{
  "cells": [
    {
      "cell_type": "markdown",
      "source": [
        "### A symbolic Jacobian for a stiff ODE system\n",
        "\n",
        "This example is based on an old scipy example script for a chemical reaction system of three concentrations. This is a very stiff system as it involves very disparate time scales (see the magnitudes of the coefficients below). We solve this using the 'stiff' option of VODE, taking advantage of an explicit Jacobian matrix function:\n",
        "\n",
        "$$\\frac{dy_o}{dt}=-0.04 y_o + 10^{-4} y_1 y_2 $$\n",
        "$$ \\frac{dy_1}{dt} = 3 \\cdot 10^7 y_1^2 $$\n",
        "$$ \\frac{dy_2}{dt} = -\\frac{dy_o}{dt}-\\frac{dy_1}{dt} $$"
      ],
      "metadata": {}
    },
    {
      "cell_type": "code",
      "source": [
        "from PyDSTool import *"
      ],
      "outputs": [],
      "execution_count": 1,
      "metadata": {
        "collapsed": false,
        "outputHidden": false,
        "inputHidden": false
      }
    },
    {
      "cell_type": "markdown",
      "source": [
        "Declarations of symbolic objects"
      ],
      "metadata": {}
    },
    {
      "cell_type": "code",
      "source": [
        "y0 = Var('y0')\n",
        "y1 = Var('y1')\n",
        "y2 = Var('y2')\n",
        "t = Var('t')"
      ],
      "outputs": [],
      "execution_count": 2,
      "metadata": {
        "collapsed": false,
        "outputHidden": false,
        "inputHidden": false
      }
    },
    {
      "cell_type": "markdown",
      "source": [
        "Definitions of right-hand sides for each variable, as functions of all variables"
      ],
      "metadata": {}
    },
    {
      "cell_type": "code",
      "source": [
        "ydot0 = Fun(-0.04*y0 + 1e4*y1*y2, [y0, y1, y2], 'ydot0')\n",
        "ydot2 = Fun(3e7*y1*y1, [y0, y1, y2], 'ydot2')\n",
        "ydot1 = Fun(-ydot0(y0,y1,y2)-ydot2(y0,y1,y2), [y0, y1, y2], 'ydot1')"
      ],
      "outputs": [],
      "execution_count": 3,
      "metadata": {
        "collapsed": false,
        "outputHidden": false,
        "inputHidden": false
      }
    },
    {
      "cell_type": "markdown",
      "source": [
        "The whole vector field as one nonlinear multi-variate function: $R^3 -> R^3$"
      ],
      "metadata": {}
    },
    {
      "cell_type": "code",
      "source": [
        "F = Fun([ydot0(y0,y1,y2),ydot1(y0,y1,y2),ydot2(y0,y1,y2)], [y0,y1,y2], 'F')\n"
      ],
      "outputs": [],
      "execution_count": 4,
      "metadata": {
        "collapsed": false,
        "outputHidden": false,
        "inputHidden": false
      }
    },
    {
      "cell_type": "markdown",
      "source": [
        "Diff is the symbolic derivative operator, and returns a QuantSpec object.\n",
        "It must be named \"Jacobian\" for PyDSTool to recognize it as such."
      ],
      "metadata": {}
    },
    {
      "cell_type": "code",
      "source": [
        "jac = Fun(Diff(F, [y0,y1,y2]), [t, y0, y1, y2], 'Jacobian')"
      ],
      "outputs": [],
      "execution_count": 5,
      "metadata": {
        "collapsed": false,
        "outputHidden": false,
        "inputHidden": false
      }
    },
    {
      "cell_type": "markdown",
      "source": [
        "This defines a function of arguments (t, y0, y1, y2) obtained by differentiating F in all three variables, y0, y1, and y2.\n",
        "\n",
        "The user could inspect this expression, jac, and make some simplifications\n",
        "by hand, to help optimize the speed of its evaluation. Here, we'll\n",
        "just use it as is."
      ],
      "metadata": {}
    },
    {
      "cell_type": "code",
      "source": [
        "DSargs = args(name='jactest', checklevel=2)\n",
        "DSargs.fnspecs = [jac, ydot0, ydot2]\n",
        "DSargs.varspecs = {y0: ydot0(y0,y1,y2),\n",
        "                   y2: ydot2(y0,y1,y2),\n",
        "                   y1: -ydot0(y0,y1,y2)-ydot2(y0,y1,y2)}\n",
        "DSargs.tdomain = [0.,1e20]\n",
        "DSargs.ics = {y0: 1.0, y1: 0., y2: 0.}\n",
        "DSargs.algparams = {'init_step':0.4, 'strictdt': True, 'stiff': True,\n",
        "                    'rtol': 1e-4, 'atol': [1e-8,1e-14,1e-6]}\n",
        "DSargs.events = makeZeroCrossEvent(y0-0.001, -1, {'name': 'thresh_ev',\n",
        "                       'eventtol': 10,\n",
        "                       'bisectlimit': 20,\n",
        "                       'eventinterval': 500,\n",
        "                       'eventdelay': 0,  #otherwise cannot catch event with only one step per run\n",
        "                       'term': True}, [y0])"
      ],
      "outputs": [],
      "execution_count": 6,
      "metadata": {
        "collapsed": false,
        "outputHidden": false,
        "inputHidden": false
      }
    },
    {
      "cell_type": "code",
      "source": [
        "testODE = Vode_ODEsystem(DSargs)"
      ],
      "outputs": [],
      "execution_count": 7,
      "metadata": {
        "collapsed": false,
        "outputHidden": false,
        "inputHidden": false
      }
    },
    {
      "cell_type": "code",
      "source": [
        "print (\"Defined the following internal Python function for Jacobian:\")\n",
        "print (testODE.funcspec.auxfns['Jacobian'][0])\n",
        "\nprint (\"\\nOutput at exponentially larger subsequent time steps (with event detection!):\\n\")"
      ],
      "outputs": [
        {
          "output_type": "stream",
          "name": "stdout",
          "text": [
            "Defined the following internal Python function for Jacobian:\n",
            "def _auxfn_Jac(ds, t, x, parsinps):\n",
            "    xjac0 = [-0.04,10000*x[2],10000*(x[1])] \n",
            "    xjac1 = [0.04,-10000*(x[2])-30000000*(2*x[1]),-10000*(x[1])] \n",
            "    xjac2 = [0,30000000*(2*x[1]),0] \n",
            "    return array([xjac0, xjac1, xjac2])\n",
            "\n",
            "Output at exponentially larger subsequent time steps (with event detection!):\n",
            "\n"
          ]
        }
      ],
      "execution_count": 8,
      "metadata": {
        "collapsed": false,
        "outputHidden": false,
        "inputHidden": false
      }
    },
    {
      "cell_type": "code",
      "source": [
        "tvals = [0.4*10**i for i in range(0,12)]\n",
        "t0 = 0.\n",
        "\n",
        "for t1 in tvals:\n",
        "    dt = t1-t0\n",
        "    print (\"\\n===============================================\\nAt t=\",\n",
        "           t1, \"using dt =\", dt)\n",
        "    testODE.set(tdata=[t0,t1], algparams={'init_step': dt})\n",
        "    if t0 >0.:\n",
        "        print (testODE._solver.y)\n",
        "    traj = testODE.compute('test', 'c')  # c for continue (acts as f first time)\n",
        "    try:\n",
        "        print (traj(t1))\n",
        "    except ValueError:\n",
        "        print (\"\\n----------\")\n",
        "        testODE.diagnostics.showWarnings()\n",
        "        print (traj(traj.indepdomain[1]))\n",
        "        print (\"----------\\n\")\n",
        "        t0 = traj.indepdomain[1]\n",
        "    else:\n",
        "        t0 = t1"
      ],
      "outputs": [
        {
          "output_type": "stream",
          "name": "stdout",
          "text": [
            "\n",
            "===============================================\n",
            "At t= 0.4 using dt = 0.4\n",
            "y0:  0.985169715618\n",
            "y1:  3.38634977697e-05\n",
            "y2:  0.0147964208839\n",
            "\n",
            "===============================================\n",
            "At t= 4.0 using dt = 3.6\n",
            "[  9.85169716e-01   3.38634978e-05   1.47964209e-02]\n",
            "y0:  0.905516381021\n",
            "y1:  2.24042194094e-05\n",
            "y2:  0.0944612147593\n",
            "\n",
            "===============================================\n",
            "At t= 40.0 using dt = 36.0\n",
            "[  9.05516381e-01   2.24042194e-05   9.44612148e-02]\n",
            "y0:  0.715843348571\n",
            "y1:  9.18595678038e-06\n",
            "y2:  0.284147465472\n",
            "\n",
            "===============================================\n",
            "At t= 400.0 using dt = 360.0\n",
            "[  7.15843349e-01   9.18595678e-06   2.84147465e-01]\n",
            "y0:  0.450536684597\n",
            "y1:  3.22309525784e-06\n",
            "y2:  0.549460092308\n",
            "\n",
            "===============================================\n",
            "At t= 4000.0 using dt = 3600.0\n",
            "[  4.50536685e-01   3.22309526e-06   5.49460092e-01]\n",
            "y0:  0.183212457766\n",
            "y1:  8.94108277768e-07\n",
            "y2:  0.816786648126\n",
            "\n",
            "===============================================\n",
            "At t= 40000.0 using dt = 36000.0\n",
            "[  1.83212458e-01   8.94108278e-07   8.16786648e-01]\n",
            "y0:  0.0389906130057\n",
            "y1:  1.62208803942e-07\n",
            "y2:  0.961009224786\n",
            "\n",
            "===============================================\n",
            "At t= 400000.0 using dt = 360000.0\n",
            "[  3.89906130e-02   1.62208804e-07   9.61009225e-01]\n",
            "y0:  0.00493843273719\n",
            "y1:  1.9850503499e-08\n",
            "y2:  0.995061547412\n",
            "\n",
            "===============================================\n",
            "At t= 4000000.0 using dt = 3600000.0\n",
            "[  4.93843274e-03   1.98505035e-08   9.95061547e-01]\n",
            "y0:  0.000516946872413\n",
            "y1:  2.06884856429e-09\n",
            "y2:  0.999483051059\n",
            "\n",
            "===============================================\n",
            "At t= 40000000.0 using dt = 36000000.0\n",
            "[  5.16946872e-04   2.06884856e-09   9.99483051e-01]\n",
            "y0:  5.20602177719e-05\n",
            "y1:  2.08251637703e-10\n",
            "y2:  0.999947939574\n",
            "\n",
            "===============================================\n",
            "At t= 400000000.0 using dt = 360000000.0\n",
            "[  5.20602178e-05   2.08251638e-10   9.99947940e-01]\n",
            "y0:  5.2103600731e-06\n",
            "y1:  2.08415482487e-11\n",
            "y2:  0.999994789619\n",
            "\n",
            "===============================================\n",
            "At t= 4000000000.0 using dt = 3600000000.0\n",
            "[  5.21036007e-06   2.08415482e-11   9.99994790e-01]\n",
            "y0:  5.25460479807e-07\n",
            "y1:  2.10184302079e-12\n",
            "y2:  0.999999474537\n",
            "\n",
            "===============================================\n",
            "At t= 40000000000.0 using dt = 36000000000.0\n",
            "[  5.25460480e-07   2.10184302e-12   9.99999475e-01]\n",
            "y0:  6.33220069808e-08\n",
            "y1:  2.53288015678e-13\n",
            "y2:  0.999999936678\n"
          ]
        }
      ],
      "execution_count": 9,
      "metadata": {
        "collapsed": false,
        "outputHidden": false,
        "inputHidden": false
      }
    },
    {
      "cell_type": "code",
      "source": [
        "print (\"\\nCompare results with the output directly from the scipy_ode.py test\")\n",
        "print (\"(up to the point where the terminal event was found).\")\n",
        "print (\"The values from a test integration performed with scipy_ode.py \" \\\n",
        "      + \"are listed in the comments at the end of this script\")\n",
        "\n",
        "## At t=0.0  y=[ 1.  0.  0.]\n",
        "## At t=0.4  y=[ 9.85172114e-001  3.38639538e-005  1.47940221e-002]\n",
        "## At t=4.0  y=[ 9.05518679e-001  2.24047569e-005  9.44589166e-002]\n",
        "## At t=40.0  y=[ 7.15827070e-001  9.18553479e-006  2.84163745e-001]\n",
        "## At t=400.0  y=[ 4.50518662e-001  3.22290136e-006  5.49478115e-001]\n",
        "## At t=4000.0  y=[ 1.83202242e-001  8.94237031e-007  8.16796863e-001]\n",
        "## At t=40000.0  y=[ 3.89833646e-002  1.62176779e-007  9.61016473e-001]\n",
        "## At t=400000.0  y=[ 4.93828363e-003  1.98499788e-008  9.95061697e-001]\n",
        "## At t=4000000.0  y=[ 5.16819063e-004  2.06833253e-009  9.99483179e-001]\n",
        "## At t=40000000.0  y=[ 5.20200703e-005  2.08090952e-010  9.99947980e-001]\n",
        "## At t=400000000.0  y=[ 5.21215549e-006  2.08487297e-011  9.99994788e-001]\n",
        "## At t=4000000000.0  y=[ 5.25335126e-007  2.10134087e-012  9.99999475e-001]\n",
        "## At t=40000000000.0  y=[ 5.63729748e-008  2.25491907e-013  9.99999944e-001]"
      ],
      "outputs": [
        {
          "output_type": "stream",
          "name": "stdout",
          "text": [
            "\n",
            "Compare results with the output directly from the scipy_ode.py test\n",
            "(up to the point where the terminal event was found).\n",
            "The values from a test integration performed with scipy_ode.py are listed in the comments at the end of this script\n"
          ]
        }
      ],
      "execution_count": 10,
      "metadata": {
        "collapsed": false,
        "outputHidden": false,
        "inputHidden": false
      }
    },
    {
      "cell_type": "code",
      "source": [],
      "outputs": [],
      "execution_count": null,
      "metadata": {
        "collapsed": false,
        "outputHidden": false,
        "inputHidden": false
      }
    }
  ],
  "metadata": {
    "kernelspec": {
      "name": "python3",
      "language": "python",
      "display_name": "Python 3"
    },
    "kernel_info": {
      "name": "python3"
    },
    "language_info": {
      "name": "python",
      "pygments_lexer": "ipython3",
      "file_extension": ".py",
      "version": "3.5.4",
      "codemirror_mode": {
        "name": "ipython",
        "version": 3
      },
      "mimetype": "text/x-python",
      "nbconvert_exporter": "python"
    },
    "nteract": {
      "version": "0.3.1"
    }
  },
  "nbformat": 4,
  "nbformat_minor": 4
}